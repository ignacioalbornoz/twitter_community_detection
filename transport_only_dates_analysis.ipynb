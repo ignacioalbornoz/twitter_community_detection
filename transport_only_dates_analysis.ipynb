{
 "cells": [
  {
   "cell_type": "code",
   "execution_count": 1,
   "metadata": {},
   "outputs": [],
   "source": [
    "import pandas as pd\n",
    "\n",
    "# Cargar los datos\n",
    "df_10_04 = pd.read_csv('tweets_20191004.csv', encoding='iso-8859-3', encoding_errors='replace', sep=';')\n",
    "df_10_19 = pd.read_csv('tweets_20191019.csv', encoding='iso-8859-3', encoding_errors='replace', sep=';')\n",
    "df_11_03 = pd.read_csv('tweets_20191103.csv', encoding='iso-8859-3', encoding_errors='replace', sep=';')"
   ]
  },
  {
   "cell_type": "code",
   "execution_count": 4,
   "metadata": {},
   "outputs": [
    {
     "name": "stdout",
     "output_type": "stream",
     "text": [
      "Archivo GEXF guardado: network_20191004.gexf\n",
      "Archivo GEXF guardado: network_20191019.gexf\n",
      "Archivo GEXF guardado: network_20191103.gexf\n"
     ]
    }
   ],
   "source": [
    "import pandas as pd\n",
    "import networkx as nx\n",
    "import re\n",
    "\n",
    "# Cargar los datos\n",
    "df_10_04 = pd.read_csv('tweets_20191004.csv', encoding='iso-8859-3', encoding_errors='replace', sep=';')\n",
    "df_10_19 = pd.read_csv('tweets_20191019.csv', encoding='iso-8859-3', encoding_errors='replace', sep=';')\n",
    "df_11_03 = pd.read_csv('tweets_20191103.csv', encoding='iso-8859-3', encoding_errors='replace', sep=';')\n",
    "\n",
    "# Función para extraer menciones de un texto de tweet\n",
    "def extraer_menciones(texto):\n",
    "    menciones = re.findall(r'@\\w+', texto)\n",
    "    return menciones\n",
    "\n",
    "# Función para crear y exportar la red a GEXF\n",
    "def crear_y_exportar_gexf(df, fecha):\n",
    "    G = nx.DiGraph()\n",
    "\n",
    "    # Añadir aristas basadas en menciones\n",
    "    for index, row in df.iterrows():\n",
    "        user = row['user_id']\n",
    "        menciones = extraer_menciones(row['text'])\n",
    "        for mencion in menciones:\n",
    "            G.add_edge(user, mencion)\n",
    "\n",
    "    # Guardar el grafo en formato GEXF\n",
    "    nx.write_gexf(G, f'network_{fecha}.gexf')\n",
    "    print(f'Archivo GEXF guardado: network_{fecha}.gexf')\n",
    "\n",
    "# Crear y exportar redes para cada DataFrame\n",
    "crear_y_exportar_gexf(df_10_04, '20191004')\n",
    "crear_y_exportar_gexf(df_10_19, '20191019')\n",
    "crear_y_exportar_gexf(df_11_03, '20191103')\n"
   ]
  }
 ],
 "metadata": {
  "kernelspec": {
   "display_name": "tw_com_det",
   "language": "python",
   "name": "python3"
  },
  "language_info": {
   "codemirror_mode": {
    "name": "ipython",
    "version": 3
   },
   "file_extension": ".py",
   "mimetype": "text/x-python",
   "name": "python",
   "nbconvert_exporter": "python",
   "pygments_lexer": "ipython3",
   "version": "3.10.12"
  }
 },
 "nbformat": 4,
 "nbformat_minor": 2
}
