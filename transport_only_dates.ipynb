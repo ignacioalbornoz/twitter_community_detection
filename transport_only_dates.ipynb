{
 "cells": [
  {
   "cell_type": "code",
   "execution_count": 4,
   "metadata": {},
   "outputs": [
    {
     "name": "stdout",
     "output_type": "stream",
     "text": [
      "Archivo guardado: tweets_20191004.csv\n",
      "Archivo guardado: tweets_20191019.csv\n",
      "Archivo guardado: tweets_20191103.csv\n"
     ]
    }
   ],
   "source": [
    "import pandas as pd\n",
    "\n",
    "# Cargar los datos\n",
    "df = pd.read_csv('proyecto_tweets_sample_anonimizados.csv', encoding='iso-8859-3', encoding_errors='replace', sep=';')\n",
    "\n",
    "# Convertir la columna 'created_at' a tipo datetime\n",
    "df['created_at'] = pd.to_datetime(df['created_at'], format='%d-%m-%Y %H:%M')\n",
    "\n",
    "# Fechas específicas para filtrar y guardar\n",
    "fechas = ['2019-10-04', '2019-10-19', '2019-11-03']\n",
    "\n",
    "# Bucle para filtrar y guardar cada archivo CSV\n",
    "for fecha in fechas:\n",
    "    # Filtrar los tweets por fecha\n",
    "    df_filtrado = df[df['created_at'].dt.date == pd.to_datetime(fecha).date()]\n",
    "    \n",
    "    # Guardar el DataFrame filtrado en un archivo CSV\n",
    "    nombre_archivo = f'tweets_{fecha.replace(\"-\", \"\")}.csv'\n",
    "    df_filtrado.to_csv(nombre_archivo, index=False, sep=';')\n",
    "    print(f'Archivo guardado: {nombre_archivo}')\n"
   ]
  }
 ],
 "metadata": {
  "kernelspec": {
   "display_name": "tw_com_det",
   "language": "python",
   "name": "python3"
  },
  "language_info": {
   "codemirror_mode": {
    "name": "ipython",
    "version": 3
   },
   "file_extension": ".py",
   "mimetype": "text/x-python",
   "name": "python",
   "nbconvert_exporter": "python",
   "pygments_lexer": "ipython3",
   "version": "3.10.12"
  }
 },
 "nbformat": 4,
 "nbformat_minor": 2
}
